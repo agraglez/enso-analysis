{
 "cells": [
  {
   "cell_type": "markdown",
   "id": "292eb98a-9155-44c5-99b8-9366bb4de4b2",
   "metadata": {},
   "source": [
    "# ENSO Analysis"
   ]
  },
  {
   "cell_type": "markdown",
   "id": "c3734c49-6d14-4b3e-9106-ed74899f1f0d",
   "metadata": {},
   "source": [
    "## Data Validation"
   ]
  },
  {
   "cell_type": "code",
   "execution_count": 1,
   "id": "11c1e6a5-a6d9-4d6a-be1e-80365a1c0287",
   "metadata": {},
   "outputs": [],
   "source": [
    "import numpy as np\n",
    "import pandas as pd\n",
    "import matplotlib.pyplot as plt\n",
    "%matplotlib inline\n",
    "import seaborn as sns\n",
    "\n",
    "import warnings\n",
    "warnings.filterwarnings('ignore')"
   ]
  },
  {
   "cell_type": "markdown",
   "id": "6df40938-61c5-4b87-9669-0460239a5811",
   "metadata": {},
   "source": [
    "### tao-all dataset"
   ]
  },
  {
   "cell_type": "code",
   "execution_count": 2,
   "id": "3a47e1ac-ad6f-4c59-b4d3-264ce1beb594",
   "metadata": {},
   "outputs": [
    {
     "data": {
      "text/plain": [
       "['obs\\n',\n",
       " 'year\\n',\n",
       " 'month\\n',\n",
       " 'day\\n',\n",
       " 'date\\n',\n",
       " 'latitude\\n',\n",
       " 'longitude\\n',\n",
       " 'zon.winds\\n',\n",
       " 'mer.winds\\n',\n",
       " 'humidity\\n',\n",
       " 'air temp.\\n',\n",
       " 's.s.temp.\\n']"
      ]
     },
     "execution_count": 2,
     "metadata": {},
     "output_type": "execute_result"
    }
   ],
   "source": [
    "# Getting columns names for tao-all dataset\n",
    "tao_col = open('../data/tao-all2.col', 'r')\n",
    "col_names_tao = tao_col.readlines()\n",
    "col_names_tao"
   ]
  },
  {
   "cell_type": "code",
   "execution_count": 3,
   "id": "02f856ad-1ce5-48e0-a76d-b9035f513c16",
   "metadata": {},
   "outputs": [],
   "source": [
    "col_names_tao = [i.replace('\\n', '') for i in col_names_tao]"
   ]
  },
  {
   "cell_type": "code",
   "execution_count": 4,
   "id": "72b8f6a3-3061-459e-b697-4a61968ed5e2",
   "metadata": {},
   "outputs": [],
   "source": [
    "# Loading tao-all2.dat file\n",
    "tao = pd.read_csv('../data/tao-all2.dat', sep = '\\s+', names = col_names_tao, header = None)\n",
    "# Renaming columns\n",
    "tao.rename(columns = {'zon.winds':'zonal_winds', 'mer.winds':'meridional_winds', 'air temp.':'air_temperature', 's.s.temp.':'sea_surface_temperature'}, inplace = True)"
   ]
  },
  {
   "cell_type": "code",
   "execution_count": 5,
   "id": "16808aaf-e512-4c12-9430-b1d979a0550d",
   "metadata": {},
   "outputs": [
    {
     "data": {
      "text/html": [
       "<div>\n",
       "<style scoped>\n",
       "    .dataframe tbody tr th:only-of-type {\n",
       "        vertical-align: middle;\n",
       "    }\n",
       "\n",
       "    .dataframe tbody tr th {\n",
       "        vertical-align: top;\n",
       "    }\n",
       "\n",
       "    .dataframe thead th {\n",
       "        text-align: right;\n",
       "    }\n",
       "</style>\n",
       "<table border=\"1\" class=\"dataframe\">\n",
       "  <thead>\n",
       "    <tr style=\"text-align: right;\">\n",
       "      <th></th>\n",
       "      <th>obs</th>\n",
       "      <th>year</th>\n",
       "      <th>month</th>\n",
       "      <th>day</th>\n",
       "      <th>date</th>\n",
       "      <th>latitude</th>\n",
       "      <th>longitude</th>\n",
       "      <th>zonal_winds</th>\n",
       "      <th>meridional_winds</th>\n",
       "      <th>humidity</th>\n",
       "      <th>air_temperature</th>\n",
       "      <th>sea_surface_temperature</th>\n",
       "    </tr>\n",
       "  </thead>\n",
       "  <tbody>\n",
       "    <tr>\n",
       "      <th>0</th>\n",
       "      <td>1</td>\n",
       "      <td>80</td>\n",
       "      <td>3</td>\n",
       "      <td>7</td>\n",
       "      <td>800307</td>\n",
       "      <td>-0.02</td>\n",
       "      <td>-109.46</td>\n",
       "      <td>-6.8</td>\n",
       "      <td>0.7</td>\n",
       "      <td>.</td>\n",
       "      <td>26.14</td>\n",
       "      <td>26.24</td>\n",
       "    </tr>\n",
       "    <tr>\n",
       "      <th>1</th>\n",
       "      <td>2</td>\n",
       "      <td>80</td>\n",
       "      <td>3</td>\n",
       "      <td>8</td>\n",
       "      <td>800308</td>\n",
       "      <td>-0.02</td>\n",
       "      <td>-109.46</td>\n",
       "      <td>-4.9</td>\n",
       "      <td>1.1</td>\n",
       "      <td>.</td>\n",
       "      <td>25.66</td>\n",
       "      <td>25.97</td>\n",
       "    </tr>\n",
       "    <tr>\n",
       "      <th>2</th>\n",
       "      <td>3</td>\n",
       "      <td>80</td>\n",
       "      <td>3</td>\n",
       "      <td>9</td>\n",
       "      <td>800309</td>\n",
       "      <td>-0.02</td>\n",
       "      <td>-109.46</td>\n",
       "      <td>-4.5</td>\n",
       "      <td>2.2</td>\n",
       "      <td>.</td>\n",
       "      <td>25.69</td>\n",
       "      <td>25.28</td>\n",
       "    </tr>\n",
       "    <tr>\n",
       "      <th>3</th>\n",
       "      <td>4</td>\n",
       "      <td>80</td>\n",
       "      <td>3</td>\n",
       "      <td>10</td>\n",
       "      <td>800310</td>\n",
       "      <td>-0.02</td>\n",
       "      <td>-109.46</td>\n",
       "      <td>-3.8</td>\n",
       "      <td>1.9</td>\n",
       "      <td>.</td>\n",
       "      <td>25.57</td>\n",
       "      <td>24.31</td>\n",
       "    </tr>\n",
       "    <tr>\n",
       "      <th>4</th>\n",
       "      <td>5</td>\n",
       "      <td>80</td>\n",
       "      <td>3</td>\n",
       "      <td>11</td>\n",
       "      <td>800311</td>\n",
       "      <td>-0.02</td>\n",
       "      <td>-109.46</td>\n",
       "      <td>-4.2</td>\n",
       "      <td>1.5</td>\n",
       "      <td>.</td>\n",
       "      <td>25.3</td>\n",
       "      <td>23.19</td>\n",
       "    </tr>\n",
       "  </tbody>\n",
       "</table>\n",
       "</div>"
      ],
      "text/plain": [
       "   obs  year  month  day    date  latitude  longitude zonal_winds  \\\n",
       "0    1    80      3    7  800307     -0.02    -109.46        -6.8   \n",
       "1    2    80      3    8  800308     -0.02    -109.46        -4.9   \n",
       "2    3    80      3    9  800309     -0.02    -109.46        -4.5   \n",
       "3    4    80      3   10  800310     -0.02    -109.46        -3.8   \n",
       "4    5    80      3   11  800311     -0.02    -109.46        -4.2   \n",
       "\n",
       "  meridional_winds humidity air_temperature sea_surface_temperature  \n",
       "0              0.7        .           26.14                   26.24  \n",
       "1              1.1        .           25.66                   25.97  \n",
       "2              2.2        .           25.69                   25.28  \n",
       "3              1.9        .           25.57                   24.31  \n",
       "4              1.5        .            25.3                   23.19  "
      ]
     },
     "execution_count": 5,
     "metadata": {},
     "output_type": "execute_result"
    }
   ],
   "source": [
    "tao.head()"
   ]
  },
  {
   "cell_type": "code",
   "execution_count": 6,
   "id": "45c52ccc-a533-4917-bfcb-799460974533",
   "metadata": {},
   "outputs": [],
   "source": [
    "# Replacing . for nan\n",
    "tao.replace('.', np.nan, inplace = True)"
   ]
  },
  {
   "cell_type": "code",
   "execution_count": 7,
   "id": "6e0db9f7-5338-4244-b6c0-6e69372550eb",
   "metadata": {},
   "outputs": [],
   "source": [
    "# Changing columns to their appropiate type\n",
    "col_types = {'date': str, 'zonal_winds': float, 'meridional_winds': float, 'humidity': float, 'air_temperature': float, 'air_temperature': float, 'sea_surface_temperature': float}\n",
    "tao = tao.astype(col_types)\n",
    "tao['date'] = pd.to_datetime(tao['date'], yearfirst = True)"
   ]
  },
  {
   "cell_type": "code",
   "execution_count": 8,
   "id": "df55f40b-23c6-4a39-ad91-eb12c4af9c11",
   "metadata": {},
   "outputs": [
    {
     "name": "stdout",
     "output_type": "stream",
     "text": [
      "<class 'pandas.core.frame.DataFrame'>\n",
      "RangeIndex: 178080 entries, 0 to 178079\n",
      "Data columns (total 12 columns):\n",
      " #   Column                   Non-Null Count   Dtype         \n",
      "---  ------                   --------------   -----         \n",
      " 0   obs                      178080 non-null  int64         \n",
      " 1   year                     178080 non-null  int64         \n",
      " 2   month                    178080 non-null  int64         \n",
      " 3   day                      178080 non-null  int64         \n",
      " 4   date                     178080 non-null  datetime64[ns]\n",
      " 5   latitude                 178080 non-null  float64       \n",
      " 6   longitude                178080 non-null  float64       \n",
      " 7   zonal_winds              152917 non-null  float64       \n",
      " 8   meridional_winds         152918 non-null  float64       \n",
      " 9   humidity                 112319 non-null  float64       \n",
      " 10  air_temperature          159843 non-null  float64       \n",
      " 11  sea_surface_temperature  161073 non-null  float64       \n",
      "dtypes: datetime64[ns](1), float64(7), int64(4)\n",
      "memory usage: 16.3 MB\n"
     ]
    }
   ],
   "source": [
    "tao.info()"
   ]
  },
  {
   "cell_type": "code",
   "execution_count": 9,
   "id": "57d0796f-3a93-4f60-91f4-c94d0d5879ef",
   "metadata": {},
   "outputs": [
    {
     "data": {
      "text/plain": [
       "obs                        178080\n",
       "year                           19\n",
       "month                          12\n",
       "day                            31\n",
       "date                         6371\n",
       "latitude                      682\n",
       "longitude                    1657\n",
       "zonal_winds                   238\n",
       "meridional_winds              216\n",
       "humidity                      394\n",
       "air_temperature              1184\n",
       "sea_surface_temperature      1264\n",
       "dtype: int64"
      ]
     },
     "execution_count": 9,
     "metadata": {},
     "output_type": "execute_result"
    }
   ],
   "source": [
    "# Counting number of different unique values in each column\n",
    "tao.nunique()"
   ]
  },
  {
   "cell_type": "markdown",
   "id": "506f636c-a18b-4a41-a562-3354c7f56098",
   "metadata": {},
   "source": [
    "* The *obs* column is a unique identifier of the observation, we can drop this column as it would not add any value to the analysis."
   ]
  },
  {
   "cell_type": "code",
   "execution_count": 10,
   "id": "c8478488-afa7-4c05-91f7-e7d889ccf46f",
   "metadata": {},
   "outputs": [],
   "source": [
    "# Droping obs column\n",
    "tao.drop(columns=['obs'], inplace = True)"
   ]
  },
  {
   "cell_type": "code",
   "execution_count": 11,
   "id": "a63372bf-5463-4140-ab6f-9811e53b2208",
   "metadata": {},
   "outputs": [
    {
     "name": "stdout",
     "output_type": "stream",
     "text": [
      "False\n",
      "False\n"
     ]
    }
   ],
   "source": [
    "# Searching for duplicated general dupliated rows and on date, latitude, longitude\n",
    "print(tao.duplicated().any())\n",
    "print(tao[['date', 'latitude', 'longitude']].duplicated().any())"
   ]
  },
  {
   "cell_type": "markdown",
   "id": "30ff8912-b0ec-4868-91a1-69df9bb8fd0c",
   "metadata": {},
   "source": [
    "* There are no duplicated rows in our dataset."
   ]
  },
  {
   "cell_type": "markdown",
   "id": "5b8f2361-f031-458c-8dbe-0f82f0af95aa",
   "metadata": {},
   "source": [
    "### elnino dataset"
   ]
  },
  {
   "cell_type": "code",
   "execution_count": 12,
   "id": "72cb44dd-f82f-4fc2-9362-f8565a394ade",
   "metadata": {},
   "outputs": [
    {
     "data": {
      "text/plain": [
       "['buoy',\n",
       " 'day',\n",
       " 'latitude',\n",
       " 'longitude',\n",
       " 'zon.winds',\n",
       " 'mer.winds',\n",
       " 'humidity',\n",
       " 'air temp.',\n",
       " 's.s.temp.']"
      ]
     },
     "execution_count": 12,
     "metadata": {},
     "output_type": "execute_result"
    }
   ],
   "source": [
    "# Getting columns names for elnino dataset\n",
    "elnino_col = open('../data/elnino.col', 'r')\n",
    "col_names_elnino = elnino_col.readlines()\n",
    "col_names_elnino = [i.replace('\\n', '') for i in col_names_elnino]\n",
    "col_names_elnino"
   ]
  },
  {
   "cell_type": "code",
   "execution_count": 13,
   "id": "4ee1d597-3b93-4158-bc08-2a7b573cc08b",
   "metadata": {},
   "outputs": [],
   "source": [
    "# Loading elnino file\n",
    "elnino = pd.read_csv('../data/elnino', sep = '\\s+', names = col_names_elnino, header = None)\n",
    "# Renaming columns\n",
    "elnino.rename(columns = {'zon.winds':'zonal_winds', 'mer.winds':'meridional_winds', 'air temp.':'air_temperature', 's.s.temp.':'sea_surface_temperature'}, inplace = True)"
   ]
  },
  {
   "cell_type": "code",
   "execution_count": 14,
   "id": "11bbfb64-cbd4-4184-9a11-1a5b6007299b",
   "metadata": {},
   "outputs": [
    {
     "data": {
      "text/html": [
       "<div>\n",
       "<style scoped>\n",
       "    .dataframe tbody tr th:only-of-type {\n",
       "        vertical-align: middle;\n",
       "    }\n",
       "\n",
       "    .dataframe tbody tr th {\n",
       "        vertical-align: top;\n",
       "    }\n",
       "\n",
       "    .dataframe thead th {\n",
       "        text-align: right;\n",
       "    }\n",
       "</style>\n",
       "<table border=\"1\" class=\"dataframe\">\n",
       "  <thead>\n",
       "    <tr style=\"text-align: right;\">\n",
       "      <th></th>\n",
       "      <th>buoy</th>\n",
       "      <th>day</th>\n",
       "      <th>latitude</th>\n",
       "      <th>longitude</th>\n",
       "      <th>zonal_winds</th>\n",
       "      <th>meridional_winds</th>\n",
       "      <th>humidity</th>\n",
       "      <th>air_temperature</th>\n",
       "      <th>sea_surface_temperature</th>\n",
       "    </tr>\n",
       "  </thead>\n",
       "  <tbody>\n",
       "    <tr>\n",
       "      <th>0</th>\n",
       "      <td>1</td>\n",
       "      <td>1</td>\n",
       "      <td>8.96</td>\n",
       "      <td>-140.32</td>\n",
       "      <td>-6.3</td>\n",
       "      <td>-6.4</td>\n",
       "      <td>83.5</td>\n",
       "      <td>27.32</td>\n",
       "      <td>27.57</td>\n",
       "    </tr>\n",
       "    <tr>\n",
       "      <th>1</th>\n",
       "      <td>1</td>\n",
       "      <td>2</td>\n",
       "      <td>8.95</td>\n",
       "      <td>-140.32</td>\n",
       "      <td>-5.7</td>\n",
       "      <td>-3.6</td>\n",
       "      <td>86.4</td>\n",
       "      <td>26.70</td>\n",
       "      <td>27.62</td>\n",
       "    </tr>\n",
       "    <tr>\n",
       "      <th>2</th>\n",
       "      <td>1</td>\n",
       "      <td>3</td>\n",
       "      <td>8.96</td>\n",
       "      <td>-140.32</td>\n",
       "      <td>-6.2</td>\n",
       "      <td>-5.8</td>\n",
       "      <td>83.0</td>\n",
       "      <td>27.36</td>\n",
       "      <td>27.68</td>\n",
       "    </tr>\n",
       "    <tr>\n",
       "      <th>3</th>\n",
       "      <td>1</td>\n",
       "      <td>4</td>\n",
       "      <td>8.96</td>\n",
       "      <td>-140.34</td>\n",
       "      <td>-6.4</td>\n",
       "      <td>-5.3</td>\n",
       "      <td>82.2</td>\n",
       "      <td>27.32</td>\n",
       "      <td>27.70</td>\n",
       "    </tr>\n",
       "    <tr>\n",
       "      <th>4</th>\n",
       "      <td>1</td>\n",
       "      <td>5</td>\n",
       "      <td>8.96</td>\n",
       "      <td>-140.33</td>\n",
       "      <td>-4.9</td>\n",
       "      <td>-6.2</td>\n",
       "      <td>87.3</td>\n",
       "      <td>27.09</td>\n",
       "      <td>27.85</td>\n",
       "    </tr>\n",
       "  </tbody>\n",
       "</table>\n",
       "</div>"
      ],
      "text/plain": [
       "   buoy  day  latitude  longitude zonal_winds meridional_winds humidity  \\\n",
       "0     1    1      8.96    -140.32        -6.3             -6.4     83.5   \n",
       "1     1    2      8.95    -140.32        -5.7             -3.6     86.4   \n",
       "2     1    3      8.96    -140.32        -6.2             -5.8     83.0   \n",
       "3     1    4      8.96    -140.34        -6.4             -5.3     82.2   \n",
       "4     1    5      8.96    -140.33        -4.9             -6.2     87.3   \n",
       "\n",
       "  air_temperature sea_surface_temperature  \n",
       "0           27.32                   27.57  \n",
       "1           26.70                   27.62  \n",
       "2           27.36                   27.68  \n",
       "3           27.32                   27.70  \n",
       "4           27.09                   27.85  "
      ]
     },
     "execution_count": 14,
     "metadata": {},
     "output_type": "execute_result"
    }
   ],
   "source": [
    "elnino.head()"
   ]
  },
  {
   "cell_type": "code",
   "execution_count": 15,
   "id": "2b79b434-22d9-4bdb-8842-229d2ee2b33a",
   "metadata": {},
   "outputs": [],
   "source": [
    "# Replacing . for nan\n",
    "elnino.replace('.', np.nan, inplace = True)"
   ]
  },
  {
   "cell_type": "code",
   "execution_count": 16,
   "id": "23ab12a1-81d3-46b3-a20c-bc2a8c923e4f",
   "metadata": {},
   "outputs": [
    {
     "name": "stdout",
     "output_type": "stream",
     "text": [
      "<class 'pandas.core.frame.DataFrame'>\n",
      "RangeIndex: 782 entries, 0 to 781\n",
      "Data columns (total 9 columns):\n",
      " #   Column                   Non-Null Count  Dtype  \n",
      "---  ------                   --------------  -----  \n",
      " 0   buoy                     782 non-null    int64  \n",
      " 1   day                      782 non-null    int64  \n",
      " 2   latitude                 782 non-null    float64\n",
      " 3   longitude                782 non-null    float64\n",
      " 4   zonal_winds              677 non-null    object \n",
      " 5   meridional_winds         677 non-null    object \n",
      " 6   humidity                 624 non-null    object \n",
      " 7   air_temperature          684 non-null    object \n",
      " 8   sea_surface_temperature  709 non-null    object \n",
      "dtypes: float64(2), int64(2), object(5)\n",
      "memory usage: 55.1+ KB\n"
     ]
    }
   ],
   "source": [
    "elnino.info()"
   ]
  },
  {
   "cell_type": "markdown",
   "id": "fcfb4dcc-304a-43e9-8f94-589dbc17d9d3",
   "metadata": {},
   "source": [
    "* Since *buoy* is not a part of our larger dataset and it is an identifier of the buoy making the measurements we will drop this column. "
   ]
  },
  {
   "cell_type": "code",
   "execution_count": 17,
   "id": "1e1c75c2-b865-472f-a4ec-a0920b47178c",
   "metadata": {},
   "outputs": [],
   "source": [
    "elnino.drop(columns = ['buoy'], inplace = True)"
   ]
  },
  {
   "cell_type": "markdown",
   "id": "c6637056-ade5-48b3-8620-4debc73844d4",
   "metadata": {},
   "source": [
    "* The *elnino* dataset does not have a complete date for the observations on it, but we know the observations were made from 23 May 98 to 5 June 98; this means that we can get the dates of the observations as shown below."
   ]
  },
  {
   "cell_type": "code",
   "execution_count": 18,
   "id": "a5569a59-ff1b-4006-8c51-bc9bbc47fd5c",
   "metadata": {},
   "outputs": [
    {
     "data": {
      "text/plain": [
       "array([ 1,  2,  3,  4,  5,  6,  7,  8,  9, 10, 11, 12, 13, 14],\n",
       "      dtype=int64)"
      ]
     },
     "execution_count": 18,
     "metadata": {},
     "output_type": "execute_result"
    }
   ],
   "source": [
    "elnino['day'].unique()"
   ]
  },
  {
   "cell_type": "code",
   "execution_count": 19,
   "id": "80dd78e3-1a8d-4013-8281-2eb310e05a6b",
   "metadata": {},
   "outputs": [],
   "source": [
    "# Dictionary to replace day column with correct day according to description\n",
    "# May dictionary\n",
    "may_keys = list(range(1,10))\n",
    "may_values = [str(i) for i in list(range(23,32))]\n",
    "may_dict = {may_keys[i] : may_values[i] for i in range(len(may_keys))}\n",
    "# June dictionary\n",
    "june_keys = list(range(10,15))\n",
    "june_values = [str(0)+str(i) for i in list(range(1,6))]\n",
    "june_dict = {june_keys[i] : june_values[i] for i in range(len(june_keys))}\n",
    "# Complete dictionary\n",
    "day_dict = may_dict | june_dict"
   ]
  },
  {
   "cell_type": "code",
   "execution_count": 20,
   "id": "5bcacfcc-8478-4fd0-90b6-6f22cb963caa",
   "metadata": {},
   "outputs": [],
   "source": [
    "# Replacing values of day columns with correct days \n",
    "elnino['day'].replace(day_dict, inplace = True)"
   ]
  },
  {
   "cell_type": "code",
   "execution_count": 21,
   "id": "b14c2544-c1a4-483c-b26e-170e05ee04c7",
   "metadata": {},
   "outputs": [],
   "source": [
    "# Inserting year column\n",
    "elnino.insert(loc = 0, column = 'year', value = '98')"
   ]
  },
  {
   "cell_type": "code",
   "execution_count": 22,
   "id": "f25e570b-44a5-4b7e-b9e5-3f62203e783d",
   "metadata": {},
   "outputs": [],
   "source": [
    "# Inserting month \n",
    "month_conditions = [\n",
    "    elnino['day'].isin(may_values) ,\n",
    "    elnino['day'].isin(june_values)\n",
    "]\n",
    "\n",
    "month_values = ['05', '06']\n",
    "elnino.insert(loc = 1, column = 'month', value = np.select(month_conditions, month_values))"
   ]
  },
  {
   "cell_type": "code",
   "execution_count": 23,
   "id": "3abb81b3-b0ee-41e9-ad31-316d8433beb7",
   "metadata": {},
   "outputs": [],
   "source": [
    "# Inserting date column\n",
    "elnino['date'] = elnino['year'] + elnino['month'] + elnino['day']"
   ]
  },
  {
   "cell_type": "code",
   "execution_count": 24,
   "id": "8b267d92-67f2-4a3a-ae1c-7bb3a95e771b",
   "metadata": {},
   "outputs": [],
   "source": [
    "# Changing order of columns\n",
    "elnino = elnino.iloc[:,[0,1,2,10,3,4,5,6,7,8,9]]"
   ]
  },
  {
   "cell_type": "code",
   "execution_count": 25,
   "id": "851cc108-e2fd-4a2e-8833-1fb5851732f6",
   "metadata": {},
   "outputs": [],
   "source": [
    "# Changing columns to their appropiate type\n",
    "col_types = {'year': int, 'month': int, 'day': int, 'zonal_winds': float, 'meridional_winds': float, 'humidity': float, 'air_temperature': float, \n",
    "             'air_temperature': float, 'sea_surface_temperature': float}\n",
    "elnino = elnino.astype(col_types)\n",
    "elnino['date'] = pd.to_datetime(elnino['date'], yearfirst = True)"
   ]
  },
  {
   "cell_type": "code",
   "execution_count": 26,
   "id": "e3f3d25c-ad40-4611-818c-622aebc6232e",
   "metadata": {},
   "outputs": [
    {
     "data": {
      "text/plain": [
       "year                         1\n",
       "month                        2\n",
       "day                         14\n",
       "date                        14\n",
       "latitude                    88\n",
       "longitude                  123\n",
       "zonal_winds                113\n",
       "meridional_winds           121\n",
       "humidity                   179\n",
       "air_temperature            321\n",
       "sea_surface_temperature    328\n",
       "dtype: int64"
      ]
     },
     "execution_count": 26,
     "metadata": {},
     "output_type": "execute_result"
    }
   ],
   "source": [
    "# Counting number of different unique values in each column\n",
    "elnino.nunique()"
   ]
  },
  {
   "cell_type": "code",
   "execution_count": 27,
   "id": "f3e91bc5-23fd-4984-9db9-99406f6a155c",
   "metadata": {},
   "outputs": [
    {
     "name": "stdout",
     "output_type": "stream",
     "text": [
      "False\n",
      "True\n"
     ]
    }
   ],
   "source": [
    "# Searching for duplicated general dupliated rows and on date, latitude, longitude\n",
    "print(elnino.duplicated().any())\n",
    "print(elnino[['date', 'latitude', 'longitude']].duplicated().any())"
   ]
  },
  {
   "cell_type": "code",
   "execution_count": 28,
   "id": "b77e41e7-8ade-4fb2-a164-4230521f07e2",
   "metadata": {},
   "outputs": [
    {
     "data": {
      "text/html": [
       "<div>\n",
       "<style scoped>\n",
       "    .dataframe tbody tr th:only-of-type {\n",
       "        vertical-align: middle;\n",
       "    }\n",
       "\n",
       "    .dataframe tbody tr th {\n",
       "        vertical-align: top;\n",
       "    }\n",
       "\n",
       "    .dataframe thead th {\n",
       "        text-align: right;\n",
       "    }\n",
       "</style>\n",
       "<table border=\"1\" class=\"dataframe\">\n",
       "  <thead>\n",
       "    <tr style=\"text-align: right;\">\n",
       "      <th></th>\n",
       "      <th>year</th>\n",
       "      <th>month</th>\n",
       "      <th>day</th>\n",
       "      <th>date</th>\n",
       "      <th>latitude</th>\n",
       "      <th>longitude</th>\n",
       "      <th>zonal_winds</th>\n",
       "      <th>meridional_winds</th>\n",
       "      <th>humidity</th>\n",
       "      <th>air_temperature</th>\n",
       "      <th>sea_surface_temperature</th>\n",
       "    </tr>\n",
       "  </thead>\n",
       "  <tbody>\n",
       "    <tr>\n",
       "      <th>328</th>\n",
       "      <td>98</td>\n",
       "      <td>5</td>\n",
       "      <td>28</td>\n",
       "      <td>1998-05-28</td>\n",
       "      <td>8.0</td>\n",
       "      <td>-179.91</td>\n",
       "      <td>NaN</td>\n",
       "      <td>NaN</td>\n",
       "      <td>NaN</td>\n",
       "      <td>27.98</td>\n",
       "      <td>28.38</td>\n",
       "    </tr>\n",
       "    <tr>\n",
       "      <th>329</th>\n",
       "      <td>98</td>\n",
       "      <td>5</td>\n",
       "      <td>28</td>\n",
       "      <td>1998-05-28</td>\n",
       "      <td>8.0</td>\n",
       "      <td>-179.91</td>\n",
       "      <td>NaN</td>\n",
       "      <td>NaN</td>\n",
       "      <td>NaN</td>\n",
       "      <td>27.86</td>\n",
       "      <td>28.41</td>\n",
       "    </tr>\n",
       "  </tbody>\n",
       "</table>\n",
       "</div>"
      ],
      "text/plain": [
       "     year  month  day       date  latitude  longitude  zonal_winds  \\\n",
       "328    98      5   28 1998-05-28       8.0    -179.91          NaN   \n",
       "329    98      5   28 1998-05-28       8.0    -179.91          NaN   \n",
       "\n",
       "     meridional_winds  humidity  air_temperature  sea_surface_temperature  \n",
       "328               NaN       NaN            27.98                    28.38  \n",
       "329               NaN       NaN            27.86                    28.41  "
      ]
     },
     "execution_count": 28,
     "metadata": {},
     "output_type": "execute_result"
    }
   ],
   "source": [
    "# Looking at duplicated rows\n",
    "elnino[elnino[['date', 'latitude', 'longitude']].duplicated(keep = False)]"
   ]
  },
  {
   "cell_type": "markdown",
   "id": "ec263e61-972a-4b6e-b9cc-ab3ad3e6caf0",
   "metadata": {},
   "source": [
    "* Assuming the observations are made once a day for each buoy (which is a fair asumption given this is only happening for this rows), having two observations with the same *date*, *latitude* and *longitude* will mean the observations are the same observation and that the diffence between them come from some sort of error; since we don't have a reason to choose one of them we will average the columns with different values."
   ]
  },
  {
   "cell_type": "code",
   "execution_count": 29,
   "id": "f470eb7b-9ee6-4d7b-a024-90515b40e13a",
   "metadata": {},
   "outputs": [],
   "source": [
    "# Averaging duplicated values of the columns above\n",
    "col_names = ['date', 'latitude', 'longitude']\n",
    "summaries = {'year': 'first', 'month': 'first', 'day': 'first', 'zonal_winds' : 'first', 'meridional_winds' : 'first',\n",
    "             'humidity': 'first', 'air_temperature':'mean', 'sea_surface_temperature' : 'mean'}\n",
    "elnino = elnino.groupby(by=col_names).agg(summaries).reset_index()"
   ]
  },
  {
   "cell_type": "code",
   "execution_count": 30,
   "id": "153b0c22-1010-4f1e-8de4-b6251eed0039",
   "metadata": {},
   "outputs": [],
   "source": [
    "elnino = elnino.iloc[:,[3,4,5,0,1,2,6,7,8,9,10]]"
   ]
  },
  {
   "cell_type": "code",
   "execution_count": 31,
   "id": "35b5d649-d4f2-4bf0-96c2-214489ac6db6",
   "metadata": {},
   "outputs": [
    {
     "name": "stdout",
     "output_type": "stream",
     "text": [
      "<class 'pandas.core.frame.DataFrame'>\n",
      "RangeIndex: 781 entries, 0 to 780\n",
      "Data columns (total 11 columns):\n",
      " #   Column                   Non-Null Count  Dtype         \n",
      "---  ------                   --------------  -----         \n",
      " 0   year                     781 non-null    int32         \n",
      " 1   month                    781 non-null    int32         \n",
      " 2   day                      781 non-null    int32         \n",
      " 3   date                     781 non-null    datetime64[ns]\n",
      " 4   latitude                 781 non-null    float64       \n",
      " 5   longitude                781 non-null    float64       \n",
      " 6   zonal_winds              677 non-null    float64       \n",
      " 7   meridional_winds         677 non-null    float64       \n",
      " 8   humidity                 624 non-null    float64       \n",
      " 9   air_temperature          683 non-null    float64       \n",
      " 10  sea_surface_temperature  708 non-null    float64       \n",
      "dtypes: datetime64[ns](1), float64(7), int32(3)\n",
      "memory usage: 58.1 KB\n"
     ]
    }
   ],
   "source": [
    "elnino.info()"
   ]
  },
  {
   "cell_type": "markdown",
   "id": "8e5e7282-283f-4fcb-84ba-3faffe093a1e",
   "metadata": {},
   "source": [
    "### enso dataset"
   ]
  },
  {
   "cell_type": "code",
   "execution_count": 32,
   "id": "09570484-0474-41d9-8766-c6114f0288bb",
   "metadata": {},
   "outputs": [],
   "source": [
    "# Concatenating the datasets\n",
    "enso = pd.concat([tao, elnino])"
   ]
  },
  {
   "cell_type": "code",
   "execution_count": 33,
   "id": "2280f56b-ad1c-40cc-856a-b45f6fa939c7",
   "metadata": {},
   "outputs": [
    {
     "name": "stdout",
     "output_type": "stream",
     "text": [
      "<class 'pandas.core.frame.DataFrame'>\n",
      "Int64Index: 178861 entries, 0 to 780\n",
      "Data columns (total 11 columns):\n",
      " #   Column                   Non-Null Count   Dtype         \n",
      "---  ------                   --------------   -----         \n",
      " 0   year                     178861 non-null  int64         \n",
      " 1   month                    178861 non-null  int64         \n",
      " 2   day                      178861 non-null  int64         \n",
      " 3   date                     178861 non-null  datetime64[ns]\n",
      " 4   latitude                 178861 non-null  float64       \n",
      " 5   longitude                178861 non-null  float64       \n",
      " 6   zonal_winds              153594 non-null  float64       \n",
      " 7   meridional_winds         153595 non-null  float64       \n",
      " 8   humidity                 112943 non-null  float64       \n",
      " 9   air_temperature          160526 non-null  float64       \n",
      " 10  sea_surface_temperature  161781 non-null  float64       \n",
      "dtypes: datetime64[ns](1), float64(7), int64(3)\n",
      "memory usage: 16.4 MB\n"
     ]
    }
   ],
   "source": [
    "enso.info()"
   ]
  },
  {
   "cell_type": "code",
   "execution_count": 34,
   "id": "b9f32ff2-7284-48e1-b9e9-bd9564c97a88",
   "metadata": {},
   "outputs": [
    {
     "data": {
      "text/html": [
       "<div>\n",
       "<style scoped>\n",
       "    .dataframe tbody tr th:only-of-type {\n",
       "        vertical-align: middle;\n",
       "    }\n",
       "\n",
       "    .dataframe tbody tr th {\n",
       "        vertical-align: top;\n",
       "    }\n",
       "\n",
       "    .dataframe thead th {\n",
       "        text-align: right;\n",
       "    }\n",
       "</style>\n",
       "<table border=\"1\" class=\"dataframe\">\n",
       "  <thead>\n",
       "    <tr style=\"text-align: right;\">\n",
       "      <th></th>\n",
       "      <th>year</th>\n",
       "      <th>month</th>\n",
       "      <th>day</th>\n",
       "      <th>date</th>\n",
       "      <th>latitude</th>\n",
       "      <th>longitude</th>\n",
       "      <th>zonal_winds</th>\n",
       "      <th>meridional_winds</th>\n",
       "      <th>humidity</th>\n",
       "      <th>air_temperature</th>\n",
       "      <th>sea_surface_temperature</th>\n",
       "    </tr>\n",
       "  </thead>\n",
       "  <tbody>\n",
       "    <tr>\n",
       "      <th>0</th>\n",
       "      <td>80</td>\n",
       "      <td>3</td>\n",
       "      <td>7</td>\n",
       "      <td>1980-03-07</td>\n",
       "      <td>-0.02</td>\n",
       "      <td>-109.46</td>\n",
       "      <td>-6.8</td>\n",
       "      <td>0.7</td>\n",
       "      <td>NaN</td>\n",
       "      <td>26.14</td>\n",
       "      <td>26.24</td>\n",
       "    </tr>\n",
       "    <tr>\n",
       "      <th>1</th>\n",
       "      <td>80</td>\n",
       "      <td>3</td>\n",
       "      <td>8</td>\n",
       "      <td>1980-03-08</td>\n",
       "      <td>-0.02</td>\n",
       "      <td>-109.46</td>\n",
       "      <td>-4.9</td>\n",
       "      <td>1.1</td>\n",
       "      <td>NaN</td>\n",
       "      <td>25.66</td>\n",
       "      <td>25.97</td>\n",
       "    </tr>\n",
       "    <tr>\n",
       "      <th>2</th>\n",
       "      <td>80</td>\n",
       "      <td>3</td>\n",
       "      <td>9</td>\n",
       "      <td>1980-03-09</td>\n",
       "      <td>-0.02</td>\n",
       "      <td>-109.46</td>\n",
       "      <td>-4.5</td>\n",
       "      <td>2.2</td>\n",
       "      <td>NaN</td>\n",
       "      <td>25.69</td>\n",
       "      <td>25.28</td>\n",
       "    </tr>\n",
       "    <tr>\n",
       "      <th>3</th>\n",
       "      <td>80</td>\n",
       "      <td>3</td>\n",
       "      <td>10</td>\n",
       "      <td>1980-03-10</td>\n",
       "      <td>-0.02</td>\n",
       "      <td>-109.46</td>\n",
       "      <td>-3.8</td>\n",
       "      <td>1.9</td>\n",
       "      <td>NaN</td>\n",
       "      <td>25.57</td>\n",
       "      <td>24.31</td>\n",
       "    </tr>\n",
       "    <tr>\n",
       "      <th>4</th>\n",
       "      <td>80</td>\n",
       "      <td>3</td>\n",
       "      <td>11</td>\n",
       "      <td>1980-03-11</td>\n",
       "      <td>-0.02</td>\n",
       "      <td>-109.46</td>\n",
       "      <td>-4.2</td>\n",
       "      <td>1.5</td>\n",
       "      <td>NaN</td>\n",
       "      <td>25.30</td>\n",
       "      <td>23.19</td>\n",
       "    </tr>\n",
       "  </tbody>\n",
       "</table>\n",
       "</div>"
      ],
      "text/plain": [
       "   year  month  day       date  latitude  longitude  zonal_winds  \\\n",
       "0    80      3    7 1980-03-07     -0.02    -109.46         -6.8   \n",
       "1    80      3    8 1980-03-08     -0.02    -109.46         -4.9   \n",
       "2    80      3    9 1980-03-09     -0.02    -109.46         -4.5   \n",
       "3    80      3   10 1980-03-10     -0.02    -109.46         -3.8   \n",
       "4    80      3   11 1980-03-11     -0.02    -109.46         -4.2   \n",
       "\n",
       "   meridional_winds  humidity  air_temperature  sea_surface_temperature  \n",
       "0               0.7       NaN            26.14                    26.24  \n",
       "1               1.1       NaN            25.66                    25.97  \n",
       "2               2.2       NaN            25.69                    25.28  \n",
       "3               1.9       NaN            25.57                    24.31  \n",
       "4               1.5       NaN            25.30                    23.19  "
      ]
     },
     "execution_count": 34,
     "metadata": {},
     "output_type": "execute_result"
    }
   ],
   "source": [
    "enso = enso.sort_values(by='date')\n",
    "enso.head()"
   ]
  },
  {
   "cell_type": "code",
   "execution_count": 35,
   "id": "3f7a6548-cdf7-4a59-a81e-26e9543be4f5",
   "metadata": {},
   "outputs": [
    {
     "name": "stdout",
     "output_type": "stream",
     "text": [
      "True\n",
      "True\n"
     ]
    }
   ],
   "source": [
    "# Searching for duplicated general dupliated rows and on date, latitude, longitude\n",
    "print(enso.duplicated().any())\n",
    "print(enso[['date', 'latitude', 'longitude']].duplicated().any())"
   ]
  },
  {
   "cell_type": "code",
   "execution_count": 36,
   "id": "52a69833-0b19-4164-8c38-bb2bdabe8791",
   "metadata": {},
   "outputs": [
    {
     "name": "stdout",
     "output_type": "stream",
     "text": [
      "714\n"
     ]
    }
   ],
   "source": [
    "print(enso.duplicated().sum())"
   ]
  },
  {
   "cell_type": "code",
   "execution_count": 37,
   "id": "1f22f796-9c64-4408-b5a7-1f6cc7c4f888",
   "metadata": {},
   "outputs": [],
   "source": [
    "enso.drop_duplicates(inplace=True)"
   ]
  },
  {
   "cell_type": "code",
   "execution_count": 38,
   "id": "fdaa764d-fa68-4030-b687-05a5d1a4b898",
   "metadata": {},
   "outputs": [
    {
     "name": "stdout",
     "output_type": "stream",
     "text": [
      "True\n"
     ]
    }
   ],
   "source": [
    "print(enso[['date', 'latitude', 'longitude']].duplicated().any())"
   ]
  },
  {
   "cell_type": "code",
   "execution_count": 39,
   "id": "d38d807a-0e53-4982-8471-7c748a87fd14",
   "metadata": {},
   "outputs": [
    {
     "data": {
      "text/html": [
       "<div>\n",
       "<style scoped>\n",
       "    .dataframe tbody tr th:only-of-type {\n",
       "        vertical-align: middle;\n",
       "    }\n",
       "\n",
       "    .dataframe tbody tr th {\n",
       "        vertical-align: top;\n",
       "    }\n",
       "\n",
       "    .dataframe thead th {\n",
       "        text-align: right;\n",
       "    }\n",
       "</style>\n",
       "<table border=\"1\" class=\"dataframe\">\n",
       "  <thead>\n",
       "    <tr style=\"text-align: right;\">\n",
       "      <th></th>\n",
       "      <th>year</th>\n",
       "      <th>month</th>\n",
       "      <th>day</th>\n",
       "      <th>date</th>\n",
       "      <th>latitude</th>\n",
       "      <th>longitude</th>\n",
       "      <th>zonal_winds</th>\n",
       "      <th>meridional_winds</th>\n",
       "      <th>humidity</th>\n",
       "      <th>air_temperature</th>\n",
       "      <th>sea_surface_temperature</th>\n",
       "    </tr>\n",
       "  </thead>\n",
       "  <tbody>\n",
       "    <tr>\n",
       "      <th>48</th>\n",
       "      <td>98</td>\n",
       "      <td>5</td>\n",
       "      <td>23</td>\n",
       "      <td>1998-05-23</td>\n",
       "      <td>5.02</td>\n",
       "      <td>-94.95</td>\n",
       "      <td>NaN</td>\n",
       "      <td>NaN</td>\n",
       "      <td>88.6</td>\n",
       "      <td>27.50</td>\n",
       "      <td>NaN</td>\n",
       "    </tr>\n",
       "    <tr>\n",
       "      <th>120107</th>\n",
       "      <td>98</td>\n",
       "      <td>5</td>\n",
       "      <td>23</td>\n",
       "      <td>1998-05-23</td>\n",
       "      <td>5.02</td>\n",
       "      <td>-94.95</td>\n",
       "      <td>NaN</td>\n",
       "      <td>NaN</td>\n",
       "      <td>88.6</td>\n",
       "      <td>27.50</td>\n",
       "      <td>30.03</td>\n",
       "    </tr>\n",
       "    <tr>\n",
       "      <th>55</th>\n",
       "      <td>98</td>\n",
       "      <td>5</td>\n",
       "      <td>23</td>\n",
       "      <td>1998-05-23</td>\n",
       "      <td>8.05</td>\n",
       "      <td>-110.15</td>\n",
       "      <td>-3.9</td>\n",
       "      <td>-1.2</td>\n",
       "      <td>NaN</td>\n",
       "      <td>28.84</td>\n",
       "      <td>29.66</td>\n",
       "    </tr>\n",
       "    <tr>\n",
       "      <th>147178</th>\n",
       "      <td>98</td>\n",
       "      <td>5</td>\n",
       "      <td>23</td>\n",
       "      <td>1998-05-23</td>\n",
       "      <td>8.05</td>\n",
       "      <td>-110.15</td>\n",
       "      <td>-3.9</td>\n",
       "      <td>-1.2</td>\n",
       "      <td>86.4</td>\n",
       "      <td>28.84</td>\n",
       "      <td>29.66</td>\n",
       "    </tr>\n",
       "    <tr>\n",
       "      <th>120108</th>\n",
       "      <td>98</td>\n",
       "      <td>5</td>\n",
       "      <td>24</td>\n",
       "      <td>1998-05-24</td>\n",
       "      <td>5.02</td>\n",
       "      <td>-94.95</td>\n",
       "      <td>NaN</td>\n",
       "      <td>NaN</td>\n",
       "      <td>81.5</td>\n",
       "      <td>28.61</td>\n",
       "      <td>29.96</td>\n",
       "    </tr>\n",
       "    <tr>\n",
       "      <th>...</th>\n",
       "      <td>...</td>\n",
       "      <td>...</td>\n",
       "      <td>...</td>\n",
       "      <td>...</td>\n",
       "      <td>...</td>\n",
       "      <td>...</td>\n",
       "      <td>...</td>\n",
       "      <td>...</td>\n",
       "      <td>...</td>\n",
       "      <td>...</td>\n",
       "      <td>...</td>\n",
       "    </tr>\n",
       "    <tr>\n",
       "      <th>744</th>\n",
       "      <td>98</td>\n",
       "      <td>6</td>\n",
       "      <td>4</td>\n",
       "      <td>1998-06-04</td>\n",
       "      <td>8.05</td>\n",
       "      <td>-110.15</td>\n",
       "      <td>4.3</td>\n",
       "      <td>4.2</td>\n",
       "      <td>NaN</td>\n",
       "      <td>27.92</td>\n",
       "      <td>29.87</td>\n",
       "    </tr>\n",
       "    <tr>\n",
       "      <th>753</th>\n",
       "      <td>98</td>\n",
       "      <td>6</td>\n",
       "      <td>5</td>\n",
       "      <td>1998-06-05</td>\n",
       "      <td>-5.01</td>\n",
       "      <td>-139.92</td>\n",
       "      <td>NaN</td>\n",
       "      <td>NaN</td>\n",
       "      <td>NaN</td>\n",
       "      <td>27.44</td>\n",
       "      <td>28.85</td>\n",
       "    </tr>\n",
       "    <tr>\n",
       "      <th>128819</th>\n",
       "      <td>98</td>\n",
       "      <td>6</td>\n",
       "      <td>5</td>\n",
       "      <td>1998-06-05</td>\n",
       "      <td>-5.01</td>\n",
       "      <td>-139.92</td>\n",
       "      <td>-7.2</td>\n",
       "      <td>-0.4</td>\n",
       "      <td>85.0</td>\n",
       "      <td>27.44</td>\n",
       "      <td>28.85</td>\n",
       "    </tr>\n",
       "    <tr>\n",
       "      <th>772</th>\n",
       "      <td>98</td>\n",
       "      <td>6</td>\n",
       "      <td>5</td>\n",
       "      <td>1998-06-05</td>\n",
       "      <td>4.97</td>\n",
       "      <td>146.99</td>\n",
       "      <td>NaN</td>\n",
       "      <td>NaN</td>\n",
       "      <td>NaN</td>\n",
       "      <td>28.80</td>\n",
       "      <td>29.40</td>\n",
       "    </tr>\n",
       "    <tr>\n",
       "      <th>106128</th>\n",
       "      <td>98</td>\n",
       "      <td>6</td>\n",
       "      <td>5</td>\n",
       "      <td>1998-06-05</td>\n",
       "      <td>4.97</td>\n",
       "      <td>146.99</td>\n",
       "      <td>-5.7</td>\n",
       "      <td>-1.0</td>\n",
       "      <td>82.2</td>\n",
       "      <td>28.80</td>\n",
       "      <td>29.40</td>\n",
       "    </tr>\n",
       "  </tbody>\n",
       "</table>\n",
       "<p>68 rows × 11 columns</p>\n",
       "</div>"
      ],
      "text/plain": [
       "        year  month  day       date  latitude  longitude  zonal_winds  \\\n",
       "48        98      5   23 1998-05-23      5.02     -94.95          NaN   \n",
       "120107    98      5   23 1998-05-23      5.02     -94.95          NaN   \n",
       "55        98      5   23 1998-05-23      8.05    -110.15         -3.9   \n",
       "147178    98      5   23 1998-05-23      8.05    -110.15         -3.9   \n",
       "120108    98      5   24 1998-05-24      5.02     -94.95          NaN   \n",
       "...      ...    ...  ...        ...       ...        ...          ...   \n",
       "744       98      6    4 1998-06-04      8.05    -110.15          4.3   \n",
       "753       98      6    5 1998-06-05     -5.01    -139.92          NaN   \n",
       "128819    98      6    5 1998-06-05     -5.01    -139.92         -7.2   \n",
       "772       98      6    5 1998-06-05      4.97     146.99          NaN   \n",
       "106128    98      6    5 1998-06-05      4.97     146.99         -5.7   \n",
       "\n",
       "        meridional_winds  humidity  air_temperature  sea_surface_temperature  \n",
       "48                   NaN      88.6            27.50                      NaN  \n",
       "120107               NaN      88.6            27.50                    30.03  \n",
       "55                  -1.2       NaN            28.84                    29.66  \n",
       "147178              -1.2      86.4            28.84                    29.66  \n",
       "120108               NaN      81.5            28.61                    29.96  \n",
       "...                  ...       ...              ...                      ...  \n",
       "744                  4.2       NaN            27.92                    29.87  \n",
       "753                  NaN       NaN            27.44                    28.85  \n",
       "128819              -0.4      85.0            27.44                    28.85  \n",
       "772                  NaN       NaN            28.80                    29.40  \n",
       "106128              -1.0      82.2            28.80                    29.40  \n",
       "\n",
       "[68 rows x 11 columns]"
      ]
     },
     "execution_count": 39,
     "metadata": {},
     "output_type": "execute_result"
    }
   ],
   "source": [
    "# Looking at duplicated rows\n",
    "enso[enso[['date', 'latitude', 'longitude']].duplicated(keep = False)].sort_values(by=['date','latitude'])"
   ]
  },
  {
   "cell_type": "markdown",
   "id": "78ddf955-7bd3-4120-9388-dfa285e408d2",
   "metadata": {},
   "source": [
    "* Making the same assumption about the observations as before we will average the columns with different values."
   ]
  },
  {
   "cell_type": "code",
   "execution_count": 40,
   "id": "36b353dd-3559-43dd-a976-57d8cbfbb11f",
   "metadata": {},
   "outputs": [],
   "source": [
    "# Averaging duplicated values of the columns above\n",
    "col_names = ['date', 'latitude', 'longitude']\n",
    "summaries = {'year': 'first', 'month': 'first', 'day': 'first', 'zonal_winds' : 'mean', 'meridional_winds' : 'mean',\n",
    "             'humidity': 'mean', 'air_temperature':'mean', 'sea_surface_temperature' : 'mean'}\n",
    "enso = enso.groupby(by=col_names).agg(summaries).reset_index()"
   ]
  },
  {
   "cell_type": "code",
   "execution_count": 41,
   "id": "1b5d7a1e-828f-40fb-bc92-7e20e15ed5f6",
   "metadata": {},
   "outputs": [
    {
     "name": "stdout",
     "output_type": "stream",
     "text": [
      "<class 'pandas.core.frame.DataFrame'>\n",
      "RangeIndex: 178113 entries, 0 to 178112\n",
      "Data columns (total 11 columns):\n",
      " #   Column                   Non-Null Count   Dtype         \n",
      "---  ------                   --------------   -----         \n",
      " 0   date                     178113 non-null  datetime64[ns]\n",
      " 1   latitude                 178113 non-null  float64       \n",
      " 2   longitude                178113 non-null  float64       \n",
      " 3   year                     178113 non-null  int64         \n",
      " 4   month                    178113 non-null  int64         \n",
      " 5   day                      178113 non-null  int64         \n",
      " 6   zonal_winds              152938 non-null  float64       \n",
      " 7   meridional_winds         152939 non-null  float64       \n",
      " 8   humidity                 112340 non-null  float64       \n",
      " 9   air_temperature          159870 non-null  float64       \n",
      " 10  sea_surface_temperature  161100 non-null  float64       \n",
      "dtypes: datetime64[ns](1), float64(7), int64(3)\n",
      "memory usage: 14.9 MB\n"
     ]
    }
   ],
   "source": [
    "enso.info()"
   ]
  },
  {
   "cell_type": "markdown",
   "id": "d804d73e-a9ec-4940-897d-0315a6636728",
   "metadata": {},
   "source": [
    "## EDA"
   ]
  },
  {
   "cell_type": "code",
   "execution_count": null,
   "id": "68fef2e7-14a1-4e31-99cb-662168458088",
   "metadata": {},
   "outputs": [],
   "source": []
  }
 ],
 "metadata": {
  "kernelspec": {
   "display_name": "Python 3 (ipykernel)",
   "language": "python",
   "name": "python3"
  },
  "language_info": {
   "codemirror_mode": {
    "name": "ipython",
    "version": 3
   },
   "file_extension": ".py",
   "mimetype": "text/x-python",
   "name": "python",
   "nbconvert_exporter": "python",
   "pygments_lexer": "ipython3",
   "version": "3.10.9"
  }
 },
 "nbformat": 4,
 "nbformat_minor": 5
}
