{
 "cells": [
  {
   "cell_type": "markdown",
   "id": "292eb98a-9155-44c5-99b8-9366bb4de4b2",
   "metadata": {},
   "source": [
    "# ENSO Analysis"
   ]
  },
  {
   "cell_type": "markdown",
   "id": "c3734c49-6d14-4b3e-9106-ed74899f1f0d",
   "metadata": {},
   "source": [
    "## Data Validation"
   ]
  },
  {
   "cell_type": "code",
   "execution_count": 1,
   "id": "11c1e6a5-a6d9-4d6a-be1e-80365a1c0287",
   "metadata": {},
   "outputs": [],
   "source": [
    "import numpy as np\n",
    "import pandas as pd\n",
    "import matplotlib.pyplot as plt\n",
    "%matplotlib inline\n",
    "import seaborn as sns\n",
    "\n",
    "import warnings\n",
    "warnings.filterwarnings('ignore')"
   ]
  },
  {
   "cell_type": "code",
   "execution_count": 14,
   "id": "3a47e1ac-ad6f-4c59-b4d3-264ce1beb594",
   "metadata": {},
   "outputs": [
    {
     "data": {
      "text/plain": [
       "['obs',\n",
       " 'year',\n",
       " 'month',\n",
       " 'day',\n",
       " 'date',\n",
       " 'latitude',\n",
       " 'longitude',\n",
       " 'zon.winds',\n",
       " 'mer.winds',\n",
       " 'humidity',\n",
       " 'air temp.',\n",
       " 's.s.temp.']"
      ]
     },
     "execution_count": 14,
     "metadata": {},
     "output_type": "execute_result"
    }
   ],
   "source": [
    "# Getting columns names\n",
    "tao_col = open('../data/tao-all2.col', 'r')\n",
    "col_names_tao = tao_col.readlines()\n",
    "col_names_tao = [i.replace('\\n', '') for i in col_names_tao]\n",
    "col_names_tao"
   ]
  },
  {
   "cell_type": "code",
   "execution_count": 24,
   "id": "72b8f6a3-3061-459e-b697-4a61968ed5e2",
   "metadata": {},
   "outputs": [],
   "source": [
    "# Loading tao-all2.dat file\n",
    "tao = pd.read_csv('../data/tao-all2.dat', sep = '\\s+', names = col_names_tao, header = None)"
   ]
  },
  {
   "cell_type": "code",
   "execution_count": 25,
   "id": "1cf7bfb8-5741-4aa3-8cd8-221aecee71bb",
   "metadata": {},
   "outputs": [
    {
     "data": {
      "text/html": [
       "<div>\n",
       "<style scoped>\n",
       "    .dataframe tbody tr th:only-of-type {\n",
       "        vertical-align: middle;\n",
       "    }\n",
       "\n",
       "    .dataframe tbody tr th {\n",
       "        vertical-align: top;\n",
       "    }\n",
       "\n",
       "    .dataframe thead th {\n",
       "        text-align: right;\n",
       "    }\n",
       "</style>\n",
       "<table border=\"1\" class=\"dataframe\">\n",
       "  <thead>\n",
       "    <tr style=\"text-align: right;\">\n",
       "      <th></th>\n",
       "      <th>obs</th>\n",
       "      <th>year</th>\n",
       "      <th>month</th>\n",
       "      <th>day</th>\n",
       "      <th>date</th>\n",
       "      <th>latitude</th>\n",
       "      <th>longitude</th>\n",
       "      <th>zon.winds</th>\n",
       "      <th>mer.winds</th>\n",
       "      <th>humidity</th>\n",
       "      <th>air temp.</th>\n",
       "      <th>s.s.temp.</th>\n",
       "    </tr>\n",
       "  </thead>\n",
       "  <tbody>\n",
       "    <tr>\n",
       "      <th>0</th>\n",
       "      <td>1</td>\n",
       "      <td>80</td>\n",
       "      <td>3</td>\n",
       "      <td>7</td>\n",
       "      <td>800307</td>\n",
       "      <td>-0.02</td>\n",
       "      <td>-109.46</td>\n",
       "      <td>-6.8</td>\n",
       "      <td>0.7</td>\n",
       "      <td>.</td>\n",
       "      <td>26.14</td>\n",
       "      <td>26.24</td>\n",
       "    </tr>\n",
       "    <tr>\n",
       "      <th>1</th>\n",
       "      <td>2</td>\n",
       "      <td>80</td>\n",
       "      <td>3</td>\n",
       "      <td>8</td>\n",
       "      <td>800308</td>\n",
       "      <td>-0.02</td>\n",
       "      <td>-109.46</td>\n",
       "      <td>-4.9</td>\n",
       "      <td>1.1</td>\n",
       "      <td>.</td>\n",
       "      <td>25.66</td>\n",
       "      <td>25.97</td>\n",
       "    </tr>\n",
       "    <tr>\n",
       "      <th>2</th>\n",
       "      <td>3</td>\n",
       "      <td>80</td>\n",
       "      <td>3</td>\n",
       "      <td>9</td>\n",
       "      <td>800309</td>\n",
       "      <td>-0.02</td>\n",
       "      <td>-109.46</td>\n",
       "      <td>-4.5</td>\n",
       "      <td>2.2</td>\n",
       "      <td>.</td>\n",
       "      <td>25.69</td>\n",
       "      <td>25.28</td>\n",
       "    </tr>\n",
       "    <tr>\n",
       "      <th>3</th>\n",
       "      <td>4</td>\n",
       "      <td>80</td>\n",
       "      <td>3</td>\n",
       "      <td>10</td>\n",
       "      <td>800310</td>\n",
       "      <td>-0.02</td>\n",
       "      <td>-109.46</td>\n",
       "      <td>-3.8</td>\n",
       "      <td>1.9</td>\n",
       "      <td>.</td>\n",
       "      <td>25.57</td>\n",
       "      <td>24.31</td>\n",
       "    </tr>\n",
       "    <tr>\n",
       "      <th>4</th>\n",
       "      <td>5</td>\n",
       "      <td>80</td>\n",
       "      <td>3</td>\n",
       "      <td>11</td>\n",
       "      <td>800311</td>\n",
       "      <td>-0.02</td>\n",
       "      <td>-109.46</td>\n",
       "      <td>-4.2</td>\n",
       "      <td>1.5</td>\n",
       "      <td>.</td>\n",
       "      <td>25.3</td>\n",
       "      <td>23.19</td>\n",
       "    </tr>\n",
       "  </tbody>\n",
       "</table>\n",
       "</div>"
      ],
      "text/plain": [
       "   obs  year  month  day    date  latitude  longitude zon.winds mer.winds  \\\n",
       "0    1    80      3    7  800307     -0.02    -109.46      -6.8       0.7   \n",
       "1    2    80      3    8  800308     -0.02    -109.46      -4.9       1.1   \n",
       "2    3    80      3    9  800309     -0.02    -109.46      -4.5       2.2   \n",
       "3    4    80      3   10  800310     -0.02    -109.46      -3.8       1.9   \n",
       "4    5    80      3   11  800311     -0.02    -109.46      -4.2       1.5   \n",
       "\n",
       "  humidity air temp. s.s.temp.  \n",
       "0        .     26.14     26.24  \n",
       "1        .     25.66     25.97  \n",
       "2        .     25.69     25.28  \n",
       "3        .     25.57     24.31  \n",
       "4        .      25.3     23.19  "
      ]
     },
     "execution_count": 25,
     "metadata": {},
     "output_type": "execute_result"
    }
   ],
   "source": [
    "tao.head()"
   ]
  }
 ],
 "metadata": {
  "kernelspec": {
   "display_name": "Python 3 (ipykernel)",
   "language": "python",
   "name": "python3"
  },
  "language_info": {
   "codemirror_mode": {
    "name": "ipython",
    "version": 3
   },
   "file_extension": ".py",
   "mimetype": "text/x-python",
   "name": "python",
   "nbconvert_exporter": "python",
   "pygments_lexer": "ipython3",
   "version": "3.10.9"
  }
 },
 "nbformat": 4,
 "nbformat_minor": 5
}
